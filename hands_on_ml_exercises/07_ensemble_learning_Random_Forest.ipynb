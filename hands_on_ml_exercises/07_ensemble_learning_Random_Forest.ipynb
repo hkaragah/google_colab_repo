{
  "nbformat": 4,
  "nbformat_minor": 0,
  "metadata": {
    "colab": {
      "provenance": [],
      "authorship_tag": "ABX9TyPjvX6LzTAhsoyty1ZFTDI7",
      "include_colab_link": true
    },
    "kernelspec": {
      "name": "python3",
      "display_name": "Python 3"
    },
    "language_info": {
      "name": "python"
    }
  },
  "cells": [
    {
      "cell_type": "markdown",
      "metadata": {
        "id": "view-in-github",
        "colab_type": "text"
      },
      "source": [
        "<a href=\"https://colab.research.google.com/github/hkaragah/google_colab_repo/blob/main/hands_on_ml_exercises/07_ensemble_learning_Random_Forest.ipynb\" target=\"_parent\"><img src=\"https://colab.research.google.com/assets/colab-badge.svg\" alt=\"Open In Colab\"/></a>"
      ]
    },
    {
      "cell_type": "markdown",
      "source": [
        "# Ensamble Learning: Random Forest"
      ],
      "metadata": {
        "id": "tCY6JCiDIx7j"
      }
    },
    {
      "cell_type": "markdown",
      "source": [
        "__Disclaimer:__ This exercise is adopted from `\"Hands-on Machine Learning with Scikit-Learn, Keras & Tensorflow (Third Edition)\"` book written by `_Aurelien Geron_` publoshed by `_O'Reilly_`. I broke them down into smaller digestable snippets, made some modifications, and added some explanations so that I can undersatand them better. The porpuse of this notebook is just for me to understand the concept and have hands-on practice while reading the book material."
      ],
      "metadata": {
        "id": "FQp9YCZho5gc"
      }
    },
    {
      "cell_type": "markdown",
      "source": [
        "## Objective\n",
        "Apply random forest classifier for ensamble learning"
      ],
      "metadata": {
        "id": "E3Yj1jDKI-NY"
      }
    },
    {
      "cell_type": "markdown",
      "source": [
        "## Load Dataset"
      ],
      "metadata": {
        "id": "QKJLU0mcmA4i"
      }
    },
    {
      "cell_type": "code",
      "source": [
        "from sklearn.datasets import make_moons\n",
        "\n",
        "from sklearn.ensemble import BaggingClassifier, RandomForestClassifier, ExtraTreesClassifier\n",
        "\n",
        "from sklearn.linear_model import LogisticRegression\n",
        "from sklearn.svm import SVC\n",
        "\n",
        "from sklearn.model_selection import train_test_split, cross_val_score, cross_val_predict\n",
        "from sklearn.tree import DecisionTreeClassifier, export_graphviz\n",
        "from sklearn.preprocessing import StandardScaler\n",
        "from graphviz import Source\n",
        "import matplotlib.pyplot as plt\n",
        "from matplotlib.colors import ListedColormap\n",
        "import numpy as np\n",
        "import pandas as pd\n",
        "import seaborn as sns\n",
        "from copy import deepcopy\n",
        "from sklearn.metrics import accuracy_score, precision_score, recall_score, f1_score, confusion_matrix, classification_report, mean_squared_error\n",
        "from IPython.display import Image\n",
        "import time\n"
      ],
      "metadata": {
        "id": "cYXY0nVfmDHF"
      },
      "execution_count": 2,
      "outputs": []
    },
    {
      "cell_type": "code",
      "source": [
        "X, y = make_moons(n_samples=500, noise=0.3, random_state=42)\n",
        "X_train, X_test, y_train, y_test = train_test_split(X, y, random_state=42) # default test_size = 0.25\n",
        "\n",
        "print(f\"Train sizes:{ X_train.shape}, {y_train.shape}\")\n",
        "print(f\"Test sizes: {X_test.shape}, {y_test.shape}\")"
      ],
      "metadata": {
        "colab": {
          "base_uri": "https://localhost:8080/"
        },
        "id": "KL4aqSrye5qQ",
        "outputId": "875bda5b-75f7-4915-851f-d076e58ae78b"
      },
      "execution_count": 3,
      "outputs": [
        {
          "output_type": "stream",
          "name": "stdout",
          "text": [
            "Train sizes:(375, 2), (375,)\n",
            "Test sizes: (125, 2), (125,)\n"
          ]
        }
      ]
    },
    {
      "cell_type": "markdown",
      "source": [
        "## Random Forest vs. Baggin Classifier\n",
        "Let's define two models, a Random Forest Clasifier and a Baggin Classifier. Note that to do a fair comparison, I need to set `max_features = 'sqrt'` because `sklearn.ensamble.RandomForestClassifier` samples $\\sqrt{n}$ features by default. Additioally, the `RandomForestClassifier` uses `DecisionTreeClassifier` as its base estimator.[[5](#5)][[6](#6)]"
      ],
      "metadata": {
        "id": "xbwnvRpGhVJ6"
      }
    },
    {
      "cell_type": "code",
      "source": [
        "rf_clf = RandomForestClassifier(n_estimators=500, max_leaf_nodes=16, oob_score=True, n_jobs=-1, random_state=42)\n",
        "bag_clf = BaggingClassifier(DecisionTreeClassifier(max_features='sqrt', max_leaf_nodes=16), n_estimators=500, oob_score=True, n_jobs=-1, random_state=42)"
      ],
      "metadata": {
        "id": "0i3CRWyZfMCo"
      },
      "execution_count": 4,
      "outputs": []
    },
    {
      "cell_type": "code",
      "source": [
        "rf_clf.get_params()"
      ],
      "metadata": {
        "colab": {
          "base_uri": "https://localhost:8080/"
        },
        "id": "IeaeeRdFgr0I",
        "outputId": "d203d4cb-78a2-406e-e25e-2d1f0ede4c64"
      },
      "execution_count": 5,
      "outputs": [
        {
          "output_type": "execute_result",
          "data": {
            "text/plain": [
              "{'bootstrap': True,\n",
              " 'ccp_alpha': 0.0,\n",
              " 'class_weight': None,\n",
              " 'criterion': 'gini',\n",
              " 'max_depth': None,\n",
              " 'max_features': 'sqrt',\n",
              " 'max_leaf_nodes': 16,\n",
              " 'max_samples': None,\n",
              " 'min_impurity_decrease': 0.0,\n",
              " 'min_samples_leaf': 1,\n",
              " 'min_samples_split': 2,\n",
              " 'min_weight_fraction_leaf': 0.0,\n",
              " 'n_estimators': 500,\n",
              " 'n_jobs': -1,\n",
              " 'oob_score': True,\n",
              " 'random_state': 42,\n",
              " 'verbose': 0,\n",
              " 'warm_start': False}"
            ]
          },
          "metadata": {},
          "execution_count": 5
        }
      ]
    },
    {
      "cell_type": "code",
      "source": [
        "bag_clf.get_params()"
      ],
      "metadata": {
        "colab": {
          "base_uri": "https://localhost:8080/"
        },
        "id": "FFI0k0aVgxo_",
        "outputId": "27f7ebcb-8b0d-4438-c61d-5b9c47dddc0b"
      },
      "execution_count": 6,
      "outputs": [
        {
          "output_type": "execute_result",
          "data": {
            "text/plain": [
              "{'base_estimator': 'deprecated',\n",
              " 'bootstrap': True,\n",
              " 'bootstrap_features': False,\n",
              " 'estimator__ccp_alpha': 0.0,\n",
              " 'estimator__class_weight': None,\n",
              " 'estimator__criterion': 'gini',\n",
              " 'estimator__max_depth': None,\n",
              " 'estimator__max_features': 'sqrt',\n",
              " 'estimator__max_leaf_nodes': 16,\n",
              " 'estimator__min_impurity_decrease': 0.0,\n",
              " 'estimator__min_samples_leaf': 1,\n",
              " 'estimator__min_samples_split': 2,\n",
              " 'estimator__min_weight_fraction_leaf': 0.0,\n",
              " 'estimator__random_state': None,\n",
              " 'estimator__splitter': 'best',\n",
              " 'estimator': DecisionTreeClassifier(max_features='sqrt', max_leaf_nodes=16),\n",
              " 'max_features': 1.0,\n",
              " 'max_samples': 1.0,\n",
              " 'n_estimators': 500,\n",
              " 'n_jobs': -1,\n",
              " 'oob_score': True,\n",
              " 'random_state': 42,\n",
              " 'verbose': 0,\n",
              " 'warm_start': False}"
            ]
          },
          "metadata": {},
          "execution_count": 6
        }
      ]
    },
    {
      "cell_type": "markdown",
      "source": [
        "Great! Both models use `gini` to measure splitting quality and `max_samples = 1` for both. Now, let's use the trainig set to fit the models. Furthermore, the two models use sampling with replacement(`bootstrap=True`)."
      ],
      "metadata": {
        "id": "kUjqnREOikx8"
      }
    },
    {
      "cell_type": "code",
      "source": [
        "rf_clf.fit(X_train, y_train)\n",
        "bag_clf.fit(X_train, y_train)"
      ],
      "metadata": {
        "colab": {
          "base_uri": "https://localhost:8080/",
          "height": 117
        },
        "id": "0AXCeEdvg4RA",
        "outputId": "c1545572-9dab-455d-b5d6-3396cdee943e"
      },
      "execution_count": 7,
      "outputs": [
        {
          "output_type": "execute_result",
          "data": {
            "text/plain": [
              "BaggingClassifier(estimator=DecisionTreeClassifier(max_features='sqrt',\n",
              "                                                   max_leaf_nodes=16),\n",
              "                  n_estimators=500, n_jobs=-1, oob_score=True, random_state=42)"
            ],
            "text/html": [
              "<style>#sk-container-id-1 {color: black;}#sk-container-id-1 pre{padding: 0;}#sk-container-id-1 div.sk-toggleable {background-color: white;}#sk-container-id-1 label.sk-toggleable__label {cursor: pointer;display: block;width: 100%;margin-bottom: 0;padding: 0.3em;box-sizing: border-box;text-align: center;}#sk-container-id-1 label.sk-toggleable__label-arrow:before {content: \"▸\";float: left;margin-right: 0.25em;color: #696969;}#sk-container-id-1 label.sk-toggleable__label-arrow:hover:before {color: black;}#sk-container-id-1 div.sk-estimator:hover label.sk-toggleable__label-arrow:before {color: black;}#sk-container-id-1 div.sk-toggleable__content {max-height: 0;max-width: 0;overflow: hidden;text-align: left;background-color: #f0f8ff;}#sk-container-id-1 div.sk-toggleable__content pre {margin: 0.2em;color: black;border-radius: 0.25em;background-color: #f0f8ff;}#sk-container-id-1 input.sk-toggleable__control:checked~div.sk-toggleable__content {max-height: 200px;max-width: 100%;overflow: auto;}#sk-container-id-1 input.sk-toggleable__control:checked~label.sk-toggleable__label-arrow:before {content: \"▾\";}#sk-container-id-1 div.sk-estimator input.sk-toggleable__control:checked~label.sk-toggleable__label {background-color: #d4ebff;}#sk-container-id-1 div.sk-label input.sk-toggleable__control:checked~label.sk-toggleable__label {background-color: #d4ebff;}#sk-container-id-1 input.sk-hidden--visually {border: 0;clip: rect(1px 1px 1px 1px);clip: rect(1px, 1px, 1px, 1px);height: 1px;margin: -1px;overflow: hidden;padding: 0;position: absolute;width: 1px;}#sk-container-id-1 div.sk-estimator {font-family: monospace;background-color: #f0f8ff;border: 1px dotted black;border-radius: 0.25em;box-sizing: border-box;margin-bottom: 0.5em;}#sk-container-id-1 div.sk-estimator:hover {background-color: #d4ebff;}#sk-container-id-1 div.sk-parallel-item::after {content: \"\";width: 100%;border-bottom: 1px solid gray;flex-grow: 1;}#sk-container-id-1 div.sk-label:hover label.sk-toggleable__label {background-color: #d4ebff;}#sk-container-id-1 div.sk-serial::before {content: \"\";position: absolute;border-left: 1px solid gray;box-sizing: border-box;top: 0;bottom: 0;left: 50%;z-index: 0;}#sk-container-id-1 div.sk-serial {display: flex;flex-direction: column;align-items: center;background-color: white;padding-right: 0.2em;padding-left: 0.2em;position: relative;}#sk-container-id-1 div.sk-item {position: relative;z-index: 1;}#sk-container-id-1 div.sk-parallel {display: flex;align-items: stretch;justify-content: center;background-color: white;position: relative;}#sk-container-id-1 div.sk-item::before, #sk-container-id-1 div.sk-parallel-item::before {content: \"\";position: absolute;border-left: 1px solid gray;box-sizing: border-box;top: 0;bottom: 0;left: 50%;z-index: -1;}#sk-container-id-1 div.sk-parallel-item {display: flex;flex-direction: column;z-index: 1;position: relative;background-color: white;}#sk-container-id-1 div.sk-parallel-item:first-child::after {align-self: flex-end;width: 50%;}#sk-container-id-1 div.sk-parallel-item:last-child::after {align-self: flex-start;width: 50%;}#sk-container-id-1 div.sk-parallel-item:only-child::after {width: 0;}#sk-container-id-1 div.sk-dashed-wrapped {border: 1px dashed gray;margin: 0 0.4em 0.5em 0.4em;box-sizing: border-box;padding-bottom: 0.4em;background-color: white;}#sk-container-id-1 div.sk-label label {font-family: monospace;font-weight: bold;display: inline-block;line-height: 1.2em;}#sk-container-id-1 div.sk-label-container {text-align: center;}#sk-container-id-1 div.sk-container {/* jupyter's `normalize.less` sets `[hidden] { display: none; }` but bootstrap.min.css set `[hidden] { display: none !important; }` so we also need the `!important` here to be able to override the default hidden behavior on the sphinx rendered scikit-learn.org. See: https://github.com/scikit-learn/scikit-learn/issues/21755 */display: inline-block !important;position: relative;}#sk-container-id-1 div.sk-text-repr-fallback {display: none;}</style><div id=\"sk-container-id-1\" class=\"sk-top-container\"><div class=\"sk-text-repr-fallback\"><pre>BaggingClassifier(estimator=DecisionTreeClassifier(max_features=&#x27;sqrt&#x27;,\n",
              "                                                   max_leaf_nodes=16),\n",
              "                  n_estimators=500, n_jobs=-1, oob_score=True, random_state=42)</pre><b>In a Jupyter environment, please rerun this cell to show the HTML representation or trust the notebook. <br />On GitHub, the HTML representation is unable to render, please try loading this page with nbviewer.org.</b></div><div class=\"sk-container\" hidden><div class=\"sk-item sk-dashed-wrapped\"><div class=\"sk-label-container\"><div class=\"sk-label sk-toggleable\"><input class=\"sk-toggleable__control sk-hidden--visually\" id=\"sk-estimator-id-1\" type=\"checkbox\" ><label for=\"sk-estimator-id-1\" class=\"sk-toggleable__label sk-toggleable__label-arrow\">BaggingClassifier</label><div class=\"sk-toggleable__content\"><pre>BaggingClassifier(estimator=DecisionTreeClassifier(max_features=&#x27;sqrt&#x27;,\n",
              "                                                   max_leaf_nodes=16),\n",
              "                  n_estimators=500, n_jobs=-1, oob_score=True, random_state=42)</pre></div></div></div><div class=\"sk-parallel\"><div class=\"sk-parallel-item\"><div class=\"sk-item\"><div class=\"sk-label-container\"><div class=\"sk-label sk-toggleable\"><input class=\"sk-toggleable__control sk-hidden--visually\" id=\"sk-estimator-id-2\" type=\"checkbox\" ><label for=\"sk-estimator-id-2\" class=\"sk-toggleable__label sk-toggleable__label-arrow\">estimator: DecisionTreeClassifier</label><div class=\"sk-toggleable__content\"><pre>DecisionTreeClassifier(max_features=&#x27;sqrt&#x27;, max_leaf_nodes=16)</pre></div></div></div><div class=\"sk-serial\"><div class=\"sk-item\"><div class=\"sk-estimator sk-toggleable\"><input class=\"sk-toggleable__control sk-hidden--visually\" id=\"sk-estimator-id-3\" type=\"checkbox\" ><label for=\"sk-estimator-id-3\" class=\"sk-toggleable__label sk-toggleable__label-arrow\">DecisionTreeClassifier</label><div class=\"sk-toggleable__content\"><pre>DecisionTreeClassifier(max_features=&#x27;sqrt&#x27;, max_leaf_nodes=16)</pre></div></div></div></div></div></div></div></div></div></div>"
            ]
          },
          "metadata": {},
          "execution_count": 7
        }
      ]
    },
    {
      "cell_type": "markdown",
      "source": [
        "The following plot shows the decision boundary of each classifier."
      ],
      "metadata": {
        "id": "mkuIuUz-jZEZ"
      }
    },
    {
      "cell_type": "code",
      "source": [
        "def generate_meshgrid(X, n):\n",
        "\n",
        "    x1_min, x1_max = X[:, 0].min() - 1, X[:, 0].max() + 1\n",
        "    x2_min, x2_max = X[:, 1].min() - 1, X[:, 1].max() + 1\n",
        "\n",
        "    x1, x2 = np.meshgrid(np.linspace(x1_min, x1_max, n),\n",
        "                         np.linspace(x2_min, x2_max, n))\n",
        "    return x1, x2\n",
        "\n",
        "\n",
        "def plot_decision_boundary(clf, X, y, ax):\n",
        "    n = 100\n",
        "    x1, x2 = generate_meshgrid(X, n) # x1 and x2 are of shape (n, n)\n",
        "\n",
        "    X_new = np.c_[x1.ravel(), x2.ravel()]\n",
        "    y_pred = clf.predict(X_new).reshape(x1.shape)\n",
        "\n",
        "    custom_cmap = ListedColormap(['#F9F7F7', '#3F72AF'])\n",
        "    ax.contourf(x1, x2, y_pred, alpha=0.3, cmap=custom_cmap) # field\n",
        "    ax.contour(x1, x2, y_pred, cmap=\"crest\", linewidths=[0.5,0.5,0.5], alpha=0.8) # line\n",
        "\n",
        "\n",
        "def plot_points(X, y, ax, styles, ax_labels, s=50, alpha=0.5):\n",
        "    for i in range(len(styles)):\n",
        "        sns.scatterplot(x=X[:, 0][y == i], y=X[:, 1][y == i], ax=ax, marker=styles[i][0], color=styles[i][1], s=s, edgecolor='k', alpha=alpha)\n",
        "\n",
        "    ax.set_xlabel(ax_labels[0])\n",
        "    ax.set_ylabel(ax_labels[1], rotation=0)"
      ],
      "metadata": {
        "id": "kAq8jlfhjXsQ"
      },
      "execution_count": 8,
      "outputs": []
    },
    {
      "cell_type": "code",
      "source": [
        "fig, axes = plt.subplots(nrows=1, ncols=2, figsize=(10, 4), sharey=True)\n",
        "\n",
        "plot_points(X_train, y_train, axes[0], [(\"h\", \"blue\"), (\"h\", \"red\")], ax_labels=[r\"$x_1$\", r\"$x_2$\"])\n",
        "plot_decision_boundary(rf_clf, X_train, y_train, axes[0])\n",
        "axes[0].set_title(\"Random Forest Classifier\", fontsize=11)\n",
        "\n",
        "plot_points(X_train, y_train, axes[1], [(\"h\", \"blue\"), (\"h\", \"red\")], ax_labels=[r\"$x_1$\", r\"$x_2$\"])\n",
        "plot_decision_boundary(bag_clf, X_train, y_train, axes[1])\n",
        "axes[1].set_title(\"Bagging Classifier\", fontsize=11)\n",
        "\n",
        "plt.tight_layout()\n",
        "plt.show()"
      ],
      "metadata": {
        "colab": {
          "base_uri": "https://localhost:8080/",
          "height": 407
        },
        "id": "qH_nSTTfjlrf",
        "outputId": "f47594c8-9919-45af-8fc3-4af8cd475221"
      },
      "execution_count": 9,
      "outputs": [
        {
          "output_type": "display_data",
          "data": {
            "text/plain": [
              "<Figure size 1000x400 with 2 Axes>"
            ],
            "image/png": "[encoded data removed]"
          },
          "metadata": {}
        }
      ]
    },
    {
      "cell_type": "markdown",
      "source": [
        "It is hard to distinguish between the two boundaries. Let's check the scores."
      ],
      "metadata": {
        "id": "QhCGAEZoj26S"
      }
    },
    {
      "cell_type": "code",
      "source": [
        "print(f\"Random Forest out-of-bag score: {rf_clf.oob_score_:.3f}\")\n",
        "print(f\"Bagging Classifier out-of-bag score: {bag_clf.oob_score_:.3f}\")"
      ],
      "metadata": {
        "colab": {
          "base_uri": "https://localhost:8080/"
        },
        "id": "oo5muC3XjuP4",
        "outputId": "51fc58ee-f964-4335-869c-a73ff13dcdb4"
      },
      "execution_count": 10,
      "outputs": [
        {
          "output_type": "stream",
          "name": "stdout",
          "text": [
            "Random Forest out-of-bag score: 0.917\n",
            "Bagging Classifier out-of-bag score: 0.917\n"
          ]
        }
      ]
    },
    {
      "cell_type": "code",
      "source": [
        "print(f\"Random Forest score: {rf_clf.score(X_test, y_test):.3f}\")\n",
        "print(f\"Bagging Classifier score: {bag_clf.score(X_test, y_test):.3f}\")"
      ],
      "metadata": {
        "colab": {
          "base_uri": "https://localhost:8080/"
        },
        "id": "6svZ-Z_ckP_g",
        "outputId": "f736413f-be50-41a7-8a99-8cd8b0c5b025"
      },
      "execution_count": 11,
      "outputs": [
        {
          "output_type": "stream",
          "name": "stdout",
          "text": [
            "Random Forest score: 0.912\n",
            "Bagging Classifier score: 0.912\n"
          ]
        }
      ]
    },
    {
      "cell_type": "markdown",
      "source": [
        "Both models achieved the same score on the oob set as well as the test test set."
      ],
      "metadata": {
        "id": "yNgX5k0FlJUX"
      }
    },
    {
      "cell_type": "markdown",
      "source": [
        "## Random Forest vs. Extremely Randomize Tree\n",
        "The __extremely randomize trees__ (aka. __extra-trees__) uses random thresholds for each feature as opposed to searching for the best possible threshold which makes the classifier much fastor to train compare to __random forest classifier__. This randomization is in addition to randomly considering a subset of features for splitting at each node. The side effect of this is that the __extra-trees__ model demonstrates more bias and less variance compared to the __random firest classifier__.[[4](#4)]"
      ],
      "metadata": {
        "id": "K7Ex1olIl5xs"
      }
    },
    {
      "cell_type": "code",
      "source": [
        "xt_clf = ExtraTreesClassifier(n_estimators=500, max_leaf_nodes=16, bootstrap=True, oob_score=True, n_jobs=-1, random_state=42)\n",
        "xt_clf.get_params()"
      ],
      "metadata": {
        "colab": {
          "base_uri": "https://localhost:8080/"
        },
        "id": "K3ub3lr7k_Wv",
        "outputId": "bdc5e0ad-d762-4cd7-e6eb-5c02501a603d"
      },
      "execution_count": 12,
      "outputs": [
        {
          "output_type": "execute_result",
          "data": {
            "text/plain": [
              "{'bootstrap': True,\n",
              " 'ccp_alpha': 0.0,\n",
              " 'class_weight': None,\n",
              " 'criterion': 'gini',\n",
              " 'max_depth': None,\n",
              " 'max_features': 'sqrt',\n",
              " 'max_leaf_nodes': 16,\n",
              " 'max_samples': None,\n",
              " 'min_impurity_decrease': 0.0,\n",
              " 'min_samples_leaf': 1,\n",
              " 'min_samples_split': 2,\n",
              " 'min_weight_fraction_leaf': 0.0,\n",
              " 'n_estimators': 500,\n",
              " 'n_jobs': -1,\n",
              " 'oob_score': True,\n",
              " 'random_state': 42,\n",
              " 'verbose': 0,\n",
              " 'warm_start': False}"
            ]
          },
          "metadata": {},
          "execution_count": 12
        }
      ]
    },
    {
      "cell_type": "code",
      "source": [
        "xt_clf.fit(X_train, y_train)"
      ],
      "metadata": {
        "colab": {
          "base_uri": "https://localhost:8080/",
          "height": 92
        },
        "id": "nek66GWdn-lm",
        "outputId": "a7d73014-5161-4001-89ea-20b586c7db98"
      },
      "execution_count": 13,
      "outputs": [
        {
          "output_type": "execute_result",
          "data": {
            "text/plain": [
              "ExtraTreesClassifier(bootstrap=True, max_leaf_nodes=16, n_estimators=500,\n",
              "                     n_jobs=-1, oob_score=True, random_state=42)"
            ],
            "text/html": [
              "<style>#sk-container-id-2 {color: black;}#sk-container-id-2 pre{padding: 0;}#sk-container-id-2 div.sk-toggleable {background-color: white;}#sk-container-id-2 label.sk-toggleable__label {cursor: pointer;display: block;width: 100%;margin-bottom: 0;padding: 0.3em;box-sizing: border-box;text-align: center;}#sk-container-id-2 label.sk-toggleable__label-arrow:before {content: \"▸\";float: left;margin-right: 0.25em;color: #696969;}#sk-container-id-2 label.sk-toggleable__label-arrow:hover:before {color: black;}#sk-container-id-2 div.sk-estimator:hover label.sk-toggleable__label-arrow:before {color: black;}#sk-container-id-2 div.sk-toggleable__content {max-height: 0;max-width: 0;overflow: hidden;text-align: left;background-color: #f0f8ff;}#sk-container-id-2 div.sk-toggleable__content pre {margin: 0.2em;color: black;border-radius: 0.25em;background-color: #f0f8ff;}#sk-container-id-2 input.sk-toggleable__control:checked~div.sk-toggleable__content {max-height: 200px;max-width: 100%;overflow: auto;}#sk-container-id-2 input.sk-toggleable__control:checked~label.sk-toggleable__label-arrow:before {content: \"▾\";}#sk-container-id-2 div.sk-estimator input.sk-toggleable__control:checked~label.sk-toggleable__label {background-color: #d4ebff;}#sk-container-id-2 div.sk-label input.sk-toggleable__control:checked~label.sk-toggleable__label {background-color: #d4ebff;}#sk-container-id-2 input.sk-hidden--visually {border: 0;clip: rect(1px 1px 1px 1px);clip: rect(1px, 1px, 1px, 1px);height: 1px;margin: -1px;overflow: hidden;padding: 0;position: absolute;width: 1px;}#sk-container-id-2 div.sk-estimator {font-family: monospace;background-color: #f0f8ff;border: 1px dotted black;border-radius: 0.25em;box-sizing: border-box;margin-bottom: 0.5em;}#sk-container-id-2 div.sk-estimator:hover {background-color: #d4ebff;}#sk-container-id-2 div.sk-parallel-item::after {content: \"\";width: 100%;border-bottom: 1px solid gray;flex-grow: 1;}#sk-container-id-2 div.sk-label:hover label.sk-toggleable__label {background-color: #d4ebff;}#sk-container-id-2 div.sk-serial::before {content: \"\";position: absolute;border-left: 1px solid gray;box-sizing: border-box;top: 0;bottom: 0;left: 50%;z-index: 0;}#sk-container-id-2 div.sk-serial {display: flex;flex-direction: column;align-items: center;background-color: white;padding-right: 0.2em;padding-left: 0.2em;position: relative;}#sk-container-id-2 div.sk-item {position: relative;z-index: 1;}#sk-container-id-2 div.sk-parallel {display: flex;align-items: stretch;justify-content: center;background-color: white;position: relative;}#sk-container-id-2 div.sk-item::before, #sk-container-id-2 div.sk-parallel-item::before {content: \"\";position: absolute;border-left: 1px solid gray;box-sizing: border-box;top: 0;bottom: 0;left: 50%;z-index: -1;}#sk-container-id-2 div.sk-parallel-item {display: flex;flex-direction: column;z-index: 1;position: relative;background-color: white;}#sk-container-id-2 div.sk-parallel-item:first-child::after {align-self: flex-end;width: 50%;}#sk-container-id-2 div.sk-parallel-item:last-child::after {align-self: flex-start;width: 50%;}#sk-container-id-2 div.sk-parallel-item:only-child::after {width: 0;}#sk-container-id-2 div.sk-dashed-wrapped {border: 1px dashed gray;margin: 0 0.4em 0.5em 0.4em;box-sizing: border-box;padding-bottom: 0.4em;background-color: white;}#sk-container-id-2 div.sk-label label {font-family: monospace;font-weight: bold;display: inline-block;line-height: 1.2em;}#sk-container-id-2 div.sk-label-container {text-align: center;}#sk-container-id-2 div.sk-container {/* jupyter's `normalize.less` sets `[hidden] { display: none; }` but bootstrap.min.css set `[hidden] { display: none !important; }` so we also need the `!important` here to be able to override the default hidden behavior on the sphinx rendered scikit-learn.org. See: https://github.com/scikit-learn/scikit-learn/issues/21755 */display: inline-block !important;position: relative;}#sk-container-id-2 div.sk-text-repr-fallback {display: none;}</style><div id=\"sk-container-id-2\" class=\"sk-top-container\"><div class=\"sk-text-repr-fallback\"><pre>ExtraTreesClassifier(bootstrap=True, max_leaf_nodes=16, n_estimators=500,\n",
              "                     n_jobs=-1, oob_score=True, random_state=42)</pre><b>In a Jupyter environment, please rerun this cell to show the HTML representation or trust the notebook. <br />On GitHub, the HTML representation is unable to render, please try loading this page with nbviewer.org.</b></div><div class=\"sk-container\" hidden><div class=\"sk-item\"><div class=\"sk-estimator sk-toggleable\"><input class=\"sk-toggleable__control sk-hidden--visually\" id=\"sk-estimator-id-4\" type=\"checkbox\" checked><label for=\"sk-estimator-id-4\" class=\"sk-toggleable__label sk-toggleable__label-arrow\">ExtraTreesClassifier</label><div class=\"sk-toggleable__content\"><pre>ExtraTreesClassifier(bootstrap=True, max_leaf_nodes=16, n_estimators=500,\n",
              "                     n_jobs=-1, oob_score=True, random_state=42)</pre></div></div></div></div></div>"
            ]
          },
          "metadata": {},
          "execution_count": 13
        }
      ]
    },
    {
      "cell_type": "code",
      "source": [
        "print(f\"Extremely Randomize Tree out-of-bag score: {xt_clf.oob_score_:.3f}\")\n",
        "print(f\"Random Forest out-of-bag score: {rf_clf.oob_score_:.3f}\")"
      ],
      "metadata": {
        "colab": {
          "base_uri": "https://localhost:8080/"
        },
        "id": "B8EPGYUqoT2Q",
        "outputId": "ba6dd557-55f4-4faf-af3b-eba8fcb41353"
      },
      "execution_count": 14,
      "outputs": [
        {
          "output_type": "stream",
          "name": "stdout",
          "text": [
            "Extremely Randomize Tree out-of-bag score: 0.899\n",
            "Random Forest out-of-bag score: 0.917\n"
          ]
        }
      ]
    },
    {
      "cell_type": "code",
      "source": [
        "print(f\"Extremely Randomize Tree score: {xt_clf.score(X_test, y_test):.3f}\")\n",
        "print(f\"Random Forest score: {rf_clf.score(X_test, y_test):.3f}\")"
      ],
      "metadata": {
        "colab": {
          "base_uri": "https://localhost:8080/"
        },
        "id": "OCwXL9uCogin",
        "outputId": "fa3500e2-cf0d-45ca-ed3b-e517bf7c4a6a"
      },
      "execution_count": 15,
      "outputs": [
        {
          "output_type": "stream",
          "name": "stdout",
          "text": [
            "Extremely Randomize Tree score: 0.912\n",
            "Random Forest score: 0.912\n"
          ]
        }
      ]
    },
    {
      "cell_type": "markdown",
      "source": [
        "Although, the oob score of the extra-trees model is lower than the random forest, their scores on the test set are the same. This is attributed to the fact that threshold randomization in extra-trees model makes it more regularized, but it also helps the model to generalize better."
      ],
      "metadata": {
        "id": "CQAUXBuuosxA"
      }
    },
    {
      "cell_type": "code",
      "source": [
        "fig, axes = plt.subplots(nrows=1, ncols=2, figsize=(10, 4), sharey=True)\n",
        "\n",
        "plot_points(X_train, y_train, axes[0], [(\"h\", \"blue\"), (\"h\", \"red\")], ax_labels=[r\"$x_1$\", r\"$x_2$\"])\n",
        "plot_decision_boundary(rf_clf, X_train, y_train, axes[0])\n",
        "axes[0].set_title(\"Random Forest Classifier\", fontsize=11)\n",
        "\n",
        "plot_points(X_train, y_train, axes[1], [(\"h\", \"blue\"), (\"h\", \"red\")], ax_labels=[r\"$x_1$\", r\"$x_2$\"])\n",
        "plot_decision_boundary(xt_clf, X_train, y_train, axes[1])\n",
        "axes[1].set_title(\"Extra-Trees Classifier\", fontsize=11)\n",
        "\n",
        "plt.tight_layout()\n",
        "plt.show()"
      ],
      "metadata": {
        "colab": {
          "base_uri": "https://localhost:8080/",
          "height": 407
        },
        "id": "Lm9BqFfIp9EJ",
        "outputId": "eeef05be-3f77-47b4-cef5-dec68068a19f"
      },
      "execution_count": 16,
      "outputs": [
        {
          "output_type": "display_data",
          "data": {
            "text/plain": [
              "<Figure size 1000x400 with 2 Axes>"
            ],
            "image/png": "[encoded data removed]"
          },
          "metadata": {}
        }
      ]
    },
    {
      "cell_type": "markdown",
      "source": [
        "### Bias and Variance\n",
        "\n",
        "The total error computed as\n",
        "\n",
        "$$Error(X) = Bias^2 + Variance + Irreducable \\  Error$$\n",
        "\n",
        "where\n",
        "$$Bias^2 = \\frac{1}{n}\\sum_{i=1}^{n}\\left(y_i - E(\\hat{f}(x_i))\\right)^2,$$\n",
        "<br>\n",
        "$$Variance = \\frac{1}{n}\\sum_{i=1}^{n}\\frac{1}{m}\\sum_{j=1}^{m}\\left(\\hat{f}_j(x_i)-\\hat{f}(x_i)\\right)^2,$$\n",
        "\n",
        "and Irreducable Error, $\\sigma_e^2$, which can not be reduced by creating good models. Irreducable Error is a measure of the amount of noise in the data.<br>\n",
        "Here are the list of the notations that I used  in the above formulas:\n",
        "\n",
        "* $y_i$ is the target value (ground truth)\n",
        "* $\\hat{f}(x_i)$ is the prediction for instance $i$\n",
        "* $E(\\hat{f}(x_i))$ is the expected (average) prediction for instance $i$\n",
        "* $\\hat{f}_j(x_i)$ is the prediction from model $j$ for instace $i$.\n"
      ],
      "metadata": {
        "id": "aZf9_Umo8wjm"
      }
    },
    {
      "cell_type": "markdown",
      "source": [
        "### cross-val-score\n",
        "\n",
        "In order to compute the bias and variance, I need to compute the accuracy scores over multiple folds of the training or test set first. I will use the `cross_val_score` for this purpose. The accuracy score computes the accuracy, either the fraction (default) or the count (normalize=Flase) of correct predictions[[3](#3)]. As a reminder\n",
        "\n",
        "* __<u>Accuracy</u>__ measures how close a given set of observations are to their true value. It is a description of _<u>systematic errors</u>_ and a measure of _<u>bias</u>_\n",
        "* __<u>Precision</u>__ measures how close the observations are to each other. It is a description of _<u>random errors</u>_ and a measure of _<u>variability</u>_.\n",
        "\n",
        "<div style='background-color: white'>\n",
        "<center><img src='https://upload.wikimedia.org/wikipedia/commons/thumb/3/38/Accuracy_and_precision.svg/1920px-Accuracy_and_precision.svg.png' width='300'></center>\n",
        "</div>\n",
        "\n",
        "In multilabel classification, the function returns the subset accuracy. If the entire set of predicted labels for a sample strictly match with the true set of labels, then the subset accuracy is 1.0; otherwise it is 0.0. It is defined as\n",
        "\n",
        "$$accuracy(y,\\hat{y}) = \\frac{1}{n_{samples}}\\sum_{i=0}^{n_{samples}-1}1(\\hat{y_i}=y_i)$$\n",
        "\n",
        "where $\\hat{y_i}$ is the predicted value of the $i$-th sample, $y_i$ is the corresponding true value, and $1(x)$ is the indicator function.<a id=#1>[[1](#1)]\n"
      ],
      "metadata": {
        "id": "NrN70z9ebIVK"
      }
    },
    {
      "cell_type": "code",
      "source": [
        "rf_scores = cross_val_score(rf_clf, X_train, y_train, cv=5, scoring='accuracy')\n",
        "xt_scores = cross_val_score(xt_clf, X_train, y_train, cv=5, scoring='accuracy')"
      ],
      "metadata": {
        "id": "GOApR_WHokyB"
      },
      "execution_count": 17,
      "outputs": []
    },
    {
      "cell_type": "markdown",
      "source": [
        "This will provides us with 5 scores (because `cv=5`), and each score indicates what fraction of the valiation set in that fold is predicted accurately using the fitting model in that fold. Here are the socres for the random forest classifier for instance."
      ],
      "metadata": {
        "id": "-wDWum03m3L6"
      }
    },
    {
      "cell_type": "code",
      "source": [
        "rf_scores"
      ],
      "metadata": {
        "colab": {
          "base_uri": "https://localhost:8080/"
        },
        "id": "3DkXq0RCnbi7",
        "outputId": "62d0446f-0f1b-4472-83cc-ca09987b09dc"
      },
      "execution_count": 18,
      "outputs": [
        {
          "output_type": "execute_result",
          "data": {
            "text/plain": [
              "array([0.90666667, 0.94666667, 0.88      , 0.96      , 0.89333333])"
            ]
          },
          "metadata": {},
          "execution_count": 18
        }
      ]
    },
    {
      "cell_type": "markdown",
      "source": [
        "The accuracy varies between $88\\%$ and $96\\%$. The scores' average indicates the overall accuracy of the model on the training set and one minus the scores' average is a measure of bias."
      ],
      "metadata": {
        "id": "XsJzSZpennRQ"
      }
    },
    {
      "cell_type": "code",
      "source": [
        "f\"{1-rf_scores.mean():.3f}\""
      ],
      "metadata": {
        "colab": {
          "base_uri": "https://localhost:8080/",
          "height": 36
        },
        "id": "5wCUXyWsnsRX",
        "outputId": "e27b961f-5ab9-47dd-bbe4-1debaab847e5"
      },
      "execution_count": 19,
      "outputs": [
        {
          "output_type": "execute_result",
          "data": {
            "text/plain": [
              "'0.083'"
            ],
            "application/vnd.google.colaboratory.intrinsic+json": {
              "type": "string"
            }
          },
          "metadata": {},
          "execution_count": 19
        }
      ]
    },
    {
      "cell_type": "markdown",
      "source": [
        "The variance of this score is also a determination of the model variance which indicates the variability of the accuracies."
      ],
      "metadata": {
        "id": "UwISBQPZp7Th"
      }
    },
    {
      "cell_type": "code",
      "source": [
        "f\"{rf_scores.var():.5f}\""
      ],
      "metadata": {
        "colab": {
          "base_uri": "https://localhost:8080/",
          "height": 36
        },
        "id": "EnCJoI4Fp6i0",
        "outputId": "cfdcddb9-c93e-4768-9ec5-48ec4f523540"
      },
      "execution_count": 20,
      "outputs": [
        {
          "output_type": "execute_result",
          "data": {
            "text/plain": [
              "'0.00095'"
            ],
            "application/vnd.google.colaboratory.intrinsic+json": {
              "type": "string"
            }
          },
          "metadata": {},
          "execution_count": 20
        }
      ]
    },
    {
      "cell_type": "markdown",
      "source": [
        "Let's summarize by taking a look at the bias and variance of the model over the training set."
      ],
      "metadata": {
        "id": "B31yFGxoqWhg"
      }
    },
    {
      "cell_type": "code",
      "source": [
        "print(f\"Random forest: (bias) {1-np.mean(rf_scores):.3f}, (var) {np.var(rf_scores):.5f}\")\n",
        "print(f\"Extra-trees: (bias) {1-np.mean(xt_scores):.3f}, (var) {np.var(xt_scores):.5f}\")"
      ],
      "metadata": {
        "colab": {
          "base_uri": "https://localhost:8080/"
        },
        "id": "34JxvUaPqV3a",
        "outputId": "74281d2a-a6e7-410a-deb0-c7ff53348a8f"
      },
      "execution_count": 21,
      "outputs": [
        {
          "output_type": "stream",
          "name": "stdout",
          "text": [
            "Random forest: (bias) 0.083, (var) 0.00095\n",
            "Extra-trees: (bias) 0.104, (var) 0.00074\n"
          ]
        }
      ]
    },
    {
      "cell_type": "markdown",
      "source": [
        "### cross-val-predict\n",
        "\n",
        "Another method to compute the bias is to get the predictions and compute the error manually. In order to do so I need to use `cross_val_predict`. According to the documentation, [[2](#2)],  it generate cross-validated estimates for each input data point. The data is split according to the cv parameter. Each sample belongs to exactly one test set, and its prediction is computed with an estimator fitted on the corresponding training set."
      ],
      "metadata": {
        "id": "ot-jmVWMacxj"
      }
    },
    {
      "cell_type": "code",
      "source": [
        "y_pred_rf = cross_val_predict(rf_clf, X_train, y_train, cv=5) # shape = (375,)\n",
        "y_pred_xt = cross_val_predict(xt_clf, X_train, y_train, cv=5)"
      ],
      "metadata": {
        "id": "6QvY4pFfr667"
      },
      "execution_count": 22,
      "outputs": []
    },
    {
      "cell_type": "markdown",
      "source": [
        "To compute the average accuracy, I need to compute what fraction of the predictions is equal to their true value, i.e.,\n",
        "\n",
        "$$ y_i=\\hat{y_i} \\quad \\text{or} \\quad y_i-\\hat{y_i}=0 $$\n",
        "\n",
        "Let's do this for the random forest model.\n",
        "\n"
      ],
      "metadata": {
        "id": "wj9X8au8sv9L"
      }
    },
    {
      "cell_type": "code",
      "source": [
        "f\"{((y_train - y_pred_rf)==0).sum()/y_pred_rf.shape[0]:.3f}\""
      ],
      "metadata": {
        "colab": {
          "base_uri": "https://localhost:8080/",
          "height": 36
        },
        "id": "4HzNJTicYUWQ",
        "outputId": "032256b1-c2c2-4fd8-e010-d1ddc31670d0"
      },
      "execution_count": 23,
      "outputs": [
        {
          "output_type": "execute_result",
          "data": {
            "text/plain": [
              "'0.917'"
            ],
            "application/vnd.google.colaboratory.intrinsic+json": {
              "type": "string"
            }
          },
          "metadata": {},
          "execution_count": 23
        }
      ]
    },
    {
      "cell_type": "markdown",
      "source": [
        "This should match the scores' average for the random forest model."
      ],
      "metadata": {
        "id": "KRLY-tvJt-An"
      }
    },
    {
      "cell_type": "code",
      "source": [
        "f\"{rf_scores.mean():.3f}\""
      ],
      "metadata": {
        "colab": {
          "base_uri": "https://localhost:8080/",
          "height": 36
        },
        "id": "ocRRxe-tsVYu",
        "outputId": "8263a1fb-4c22-466c-8cf3-7d4d1ff02d9b"
      },
      "execution_count": 24,
      "outputs": [
        {
          "output_type": "execute_result",
          "data": {
            "text/plain": [
              "'0.917'"
            ],
            "application/vnd.google.colaboratory.intrinsic+json": {
              "type": "string"
            }
          },
          "metadata": {},
          "execution_count": 24
        }
      ]
    },
    {
      "cell_type": "markdown",
      "source": [
        "So the bias is the fraction that is predicted incorrectly. However, to cancel the effect of the negative values and emphasize the influence of the outliers generally root mean square error (RMSE) is computed. For classification tasks I can also use mean absolute error (MAE) since the result of $y_i - \\hat{y_i}$ is either zero or $-1$. But it is common to use RMSE in regression tasks."
      ],
      "metadata": {
        "id": "sdyDecUfuNNs"
      }
    },
    {
      "cell_type": "code",
      "source": [
        "print(f\"RMSE: {np.sqrt(np.mean((y_train - y_pred_rf)**2)):.3f}\")\n",
        "print(f\"MAE: {np.mean(np.abs(y_train - y_pred_rf)):.3f}\")"
      ],
      "metadata": {
        "colab": {
          "base_uri": "https://localhost:8080/"
        },
        "id": "HBRvakX5aNV8",
        "outputId": "80d78079-3ec2-4d2c-97cf-92f28dbffde1"
      },
      "execution_count": 25,
      "outputs": [
        {
          "output_type": "stream",
          "name": "stdout",
          "text": [
            "RMSE: 0.288\n",
            "MAE: 0.083\n"
          ]
        }
      ]
    },
    {
      "cell_type": "markdown",
      "source": [
        "The value of MAE matches the one I computed directly from the cross validation socres. since RMSE is more common, I will use it to compare the models' performance.<br>\n",
        "The variance is still obtained by computing the variance of the scores. Let's simmarize the bias and variance of the two models below. The results should match those we got earlier using only `cross-val-scores`."
      ],
      "metadata": {
        "id": "mpJgBIQmwrIQ"
      }
    },
    {
      "cell_type": "code",
      "source": [
        "print(f\"Random Forest: (bias) {np.sqrt(np.mean((y_train - y_pred_rf)**2)):.3f}, (var) {np.var(rf_scores):.5f}\")\n",
        "print(f\"Extra-trees: (bias) {np.sqrt(np.mean((y_train - y_pred_xt)**2)):.3f}, (var) {np.var(xt_scores):.5f}\")"
      ],
      "metadata": {
        "colab": {
          "base_uri": "https://localhost:8080/"
        },
        "id": "qu3JWkRMzNl4",
        "outputId": "9db4095a-096d-42dc-b106-9bf1222106a1"
      },
      "execution_count": 26,
      "outputs": [
        {
          "output_type": "stream",
          "name": "stdout",
          "text": [
            "Random Forest: (bias) 0.288, (var) 0.00095\n",
            "Extra-trees: (bias) 0.322, (var) 0.00074\n"
          ]
        }
      ]
    },
    {
      "cell_type": "markdown",
      "source": [
        "### Compare Renadom Forest and Extra-Trees\n",
        "\n",
        "Here is a summary of the bia and variance results that I computeed:<br>\n",
        "\n",
        "|Model|Bias<br>(MAE)|bias<br>(RMSE)|Variance|\n",
        "|:----|:----:|:----:|:----:|\n",
        "|Random Forest|0.083|0.288|0.00095|\n",
        "|Extra-Trees|0.104|0.322|0.00074|\n",
        "\n",
        "Comparing to the random forest model, the bias of the extre-trees model increased and while its variance decreased. as mentioned earlier, this arributed to the randomize selection of the threshold value for splitting.<br>\n",
        "\n",
        "I can use _MAE_ or _RMSE_ scoring methods directly to minimize the post-processing as follows.\n"
      ],
      "metadata": {
        "id": "j67dRkCgzk-F"
      }
    },
    {
      "cell_type": "code",
      "source": [
        "scorings = ['neg_mean_absolute_error', 'neg_root_mean_squared_error']\n",
        "\n",
        "for scoring in scorings:\n",
        "    rf_scores_ = cross_val_score(rf_clf, X_train, y_train, cv=5, scoring=scoring)\n",
        "    xt_scores_ = cross_val_score(xt_clf, X_train, y_train, cv=5, scoring=scoring)\n",
        "\n",
        "    print(f\"Random forest ({scoring}): (bias) {-np.mean(rf_scores_):.3f}, (var) {np.var(rf_scores_):.5f}\")\n",
        "    print(f\"Extra-trees ({scoring}): (bias) {-np.mean(xt_scores_):.3f}, (var) {np.var(xt_scores_):.5f}\\n\")\n"
      ],
      "metadata": {
        "colab": {
          "base_uri": "https://localhost:8080/"
        },
        "id": "SvSRiwEGaaQu",
        "outputId": "ed502be3-28b5-4a80-bff8-fc8fd84575fc"
      },
      "execution_count": 38,
      "outputs": [
        {
          "output_type": "stream",
          "name": "stdout",
          "text": [
            "Random forest (neg_mean_absolute_error): (bias) 0.083, (var) 0.00095\n",
            "Extra-trees (neg_mean_absolute_error): (bias) 0.104, (var) 0.00074\n",
            "\n",
            "Random forest (neg_root_mean_squared_error): (bias) 0.282, (var) 0.00320\n",
            "Extra-trees (neg_root_mean_squared_error): (bias) 0.319, (var) 0.00215\n",
            "\n"
          ]
        }
      ]
    },
    {
      "cell_type": "markdown",
      "source": [
        "The bias and variance of the MAE methos is identical to computed earlier. The bias values are slightly off for the RMSE method, and the variance is diffeent as expected, becasue it is now the variation the root mean squared of the errors. Regardless the same trend is observed when I compare these values between the two models (higher bias and lower variance for exrta-trees)."
      ],
      "metadata": {
        "id": "WcpXauNRfbw6"
      }
    },
    {
      "cell_type": "markdown",
      "source": [
        "Finally, I compute the scores one more time, but on the whole dataset instead of just the training set in order to compare the bias and variance of the two classifiers."
      ],
      "metadata": {
        "id": "XIehQ-DGfJlT"
      }
    },
    {
      "cell_type": "code",
      "source": [
        "rf_scores_all = cross_val_score(rf_clf, X, y, cv=5, scoring='neg_mean_absolute_error')\n",
        "xt_scores_all = cross_val_score(xt_clf, X, y, cv=5, scoring='neg_mean_absolute_error')"
      ],
      "metadata": {
        "id": "_sr53WzJZqhn"
      },
      "execution_count": 39,
      "outputs": []
    },
    {
      "cell_type": "code",
      "source": [
        "print(f\"Random forest: (bias) {-np.mean(rf_scores_all):.3f}, (var) {np.var(rf_scores_all):.5f}\")\n",
        "print(f\"Extra-trees: (bias) {-np.mean(xt_scores_all):.3f}, (var) {np.var(xt_scores_all):.5f}\\n\")"
      ],
      "metadata": {
        "colab": {
          "base_uri": "https://localhost:8080/"
        },
        "id": "0msNK67Ggkxl",
        "outputId": "29989b6c-f3c6-41a6-87c1-3b7a796de024"
      },
      "execution_count": 40,
      "outputs": [
        {
          "output_type": "stream",
          "name": "stdout",
          "text": [
            "Random forest: (bias) 0.088, (var) 0.00018\n",
            "Extra-trees: (bias) 0.096, (var) 0.00010\n",
            "\n"
          ]
        }
      ]
    },
    {
      "cell_type": "markdown",
      "source": [
        "Similar trends as expected!"
      ],
      "metadata": {
        "id": "OaGVRXC_hHg7"
      }
    },
    {
      "cell_type": "markdown",
      "source": [
        "## References:\n",
        "\n",
        "1. <a id='1' href='https://scikit-learn.org/stable/modules/model_evaluation.html#accuracy-score'>Scikit-Learn: Matrics and Scoring</a>\n",
        "\n",
        "2. <a id='2' href='https://scikit-learn.org/stable/modules/generated/sklearn.model_selection.cross_val_predict.html#cross-val-predict'> Scikit-Learn: cross-val-predict</a>\n",
        "\n",
        "3. <a id='3' href='https://scikit-learn.org/stable/modules/generated/sklearn.model_selection.cross_val_score.html#sklearn.model_selection.cross_val_score'>Scikit-Learn: cross-val-score</a>\n",
        "\n",
        "4. <a id='4' href='https://scikit-learn.org/stable/modules/generated/sklearn.ensemble.ExtraTreesClassifier.html#sklearn.ensemble.ExtraTreesClassifier'>Scikit-Learn: ExtraTreesClassifier</a>\n",
        "\n",
        "5. <a id='5' href='https://scikit-learn.org/stable/modules/generated/sklearn.ensemble.RandomForestClassifier.html'>Scikit-Learn:RandomForestClassifier</a>\n",
        "\n",
        "6. <a id='6' href='https://scikit-learn.org/stable/modules/generated/sklearn.ensemble.BaggingClassifier.html'>Scikit-Learn:BaggingClassifier</a>\n",
        "\n",
        "7. <a id='7' href='https://scikit-learn.org/stable/modules/generated/sklearn.tree.DecisionTreeClassifier.html'>Scikit-Learn: DecisionTreeClassifier</a>"
      ],
      "metadata": {
        "id": "BU0V8uQXhy1Y"
      }
    },
    {
      "cell_type": "code",
      "source": [],
      "metadata": {
        "id": "Q_F_Qjrxkr5p"
      },
      "execution_count": null,
      "outputs": []
    }
  ]
}